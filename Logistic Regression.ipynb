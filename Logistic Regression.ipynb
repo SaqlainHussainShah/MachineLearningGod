{
 "cells": [
  {
   "cell_type": "code",
   "execution_count": 1,
   "metadata": {
    "collapsed": true
   },
   "outputs": [],
   "source": [
    "%matplotlib inline"
   ]
  },
  {
   "cell_type": "code",
   "execution_count": 2,
   "metadata": {
    "collapsed": true
   },
   "outputs": [],
   "source": [
    "import numpy as np\n",
    "from scipy.optimize import minimize\n",
    "import matplotlib.pyplot as plt"
   ]
  },
  {
   "cell_type": "markdown",
   "metadata": {},
   "source": [
    "The inverse logit function, also known as the sigmoid S function."
   ]
  },
  {
   "cell_type": "code",
   "execution_count": 3,
   "metadata": {
    "collapsed": true
   },
   "outputs": [],
   "source": [
    "def sigmoid(a):\n",
    "    return 1 / (1 + np.exp(-a))"
   ]
  },
  {
   "cell_type": "markdown",
   "metadata": {},
   "source": [
    "We need to maximize the log-likelihood.\n",
    "This is equivalent to minimizing the negative log-likelihood."
   ]
  },
  {
   "cell_type": "code",
   "execution_count": 4,
   "metadata": {
    "collapsed": true
   },
   "outputs": [],
   "source": [
    "def negative_log_likelihood(c, x, y):\n",
    "    a = c[0] + (c[1] * x)\n",
    "    p = sigmoid(a)\n",
    "    log_likelihood = np.sum(np.log(p[y==1])) + np.sum(np.log(1 - p[y==0]))\n",
    "    return -log_likelihood"
   ]
  },
  {
   "cell_type": "markdown",
   "metadata": {},
   "source": [
    "Generate training data: 50 data points for class 0, and 50 data points for class 1."
   ]
  },
  {
   "cell_type": "code",
   "execution_count": 5,
   "metadata": {
    "collapsed": true
   },
   "outputs": [],
   "source": [
    "x_class_0 = np.random.normal(0, 1, 50) - 1\n",
    "x_class_1 = np.random.normal(0, 1, 50) + 1\n",
    "x_train = np.concatenate([x_class_0, x_class_1])\n",
    "\n",
    "y_class_0 = np.zeros((50))\n",
    "y_class_1 = np.ones((50))\n",
    "y_train = np.concatenate([y_class_0, y_class_1])"
   ]
  },
  {
   "cell_type": "markdown",
   "metadata": {},
   "source": [
    "Minimize the negative_log_likelihood function with respect to the parameters c, i.e., find the maximum likelihood estimate (MLE) for the parameters c."
   ]
  },
  {
   "cell_type": "code",
   "execution_count": 6,
   "metadata": {
    "collapsed": true
   },
   "outputs": [],
   "source": [
    "start_params = np.array([1, 1])\n",
    "result = minimize(negative_log_likelihood, start_params, args=(x_train, y_train), method='BFGS', options={'gtol': 1e-6, 'disp': False})\n",
    "c = result.x"
   ]
  },
  {
   "cell_type": "markdown",
   "metadata": {},
   "source": [
    "Generate 30 data points as test data."
   ]
  },
  {
   "cell_type": "code",
   "execution_count": 7,
   "metadata": {
    "collapsed": true
   },
   "outputs": [],
   "source": [
    "x_test = np.random.normal(0, 1, 30) * 2\n",
    "y_test = np.zeros((30))"
   ]
  },
  {
   "cell_type": "markdown",
   "metadata": {},
   "source": [
    "Classify the test data."
   ]
  },
  {
   "cell_type": "code",
   "execution_count": 8,
   "metadata": {
    "collapsed": true
   },
   "outputs": [],
   "source": [
    "a = c[0] + c[1] * x_test\n",
    "p = sigmoid(a)\n",
    "classify = lambda x: int(x > 0.5)\n",
    "predictions = list(map(classify, p))"
   ]
  },
  {
   "cell_type": "markdown",
   "metadata": {},
   "source": [
    "Create colors for the two classes."
   ]
  },
  {
   "cell_type": "code",
   "execution_count": 9,
   "metadata": {
    "collapsed": true
   },
   "outputs": [],
   "source": [
    "colors = ['r', 'b']\n",
    "f = lambda x: colors[int(x)]\n",
    "\n",
    "colors_train = list(map(f, y_train))\n",
    "colors_predictions = list(map(f, predictions))"
   ]
  },
  {
   "cell_type": "markdown",
   "metadata": {},
   "source": [
    "Plot the training data."
   ]
  },
  {
   "cell_type": "code",
   "execution_count": 10,
   "metadata": {},
   "outputs": [
    {
     "data": {
      "image/png": "[encoded data removed]",
      "text/plain": [
       "<matplotlib.figure.Figure at 0x65564f630>"
      ]
     },
     "metadata": {},
     "output_type": "display_data"
    }
   ],
   "source": [
    "my_dpi = 96\n",
    "plt.figure(figsize=(500/my_dpi, 500/my_dpi), dpi=my_dpi)\n",
    "\n",
    "plt.xlabel('X')\n",
    "plt.title('Training Data\\n')\n",
    "\n",
    "y_plot = np.zeros((100))\n",
    "\n",
    "plt.scatter(x_train, y_plot, color=colors_train)\n",
    "plt.show()"
   ]
  },
  {
   "cell_type": "markdown",
   "metadata": {},
   "source": [
    "Find the value of x where the sigmoid has value 0.5."
   ]
  },
  {
   "cell_type": "code",
   "execution_count": 11,
   "metadata": {
    "collapsed": true
   },
   "outputs": [],
   "source": [
    "decision_boundary_x = -(c[0] / c[1])"
   ]
  },
  {
   "cell_type": "markdown",
   "metadata": {},
   "source": [
    "Create data points for the learned sigmoid function, so that we can plot it."
   ]
  },
  {
   "cell_type": "code",
   "execution_count": 12,
   "metadata": {
    "collapsed": true
   },
   "outputs": [],
   "source": [
    "def sigmoid2(x):\n",
    "    a = c[0] + c[1] * x\n",
    "    p = 1 / (1 + np.exp(-a))\n",
    "    return p\n",
    "\n",
    "sig_x = np.arange(-5, 5, 0.1)\n",
    "sig_y = list(map(sigmoid2, sig_x))"
   ]
  },
  {
   "cell_type": "markdown",
   "metadata": {},
   "source": [
    "Plot the test data, the learned sigmoid, and the vertical decision boundary."
   ]
  },
  {
   "cell_type": "code",
   "execution_count": 13,
   "metadata": {},
   "outputs": [
    {
     "data": {
      "image/png": "[encoded data removed]",
      "text/plain": [
       "<matplotlib.figure.Figure at 0x655a1e710>"
      ]
     },
     "metadata": {},
     "output_type": "display_data"
    }
   ],
   "source": [
    "my_dpi = 96\n",
    "plt.figure(figsize=(500/my_dpi, 500/my_dpi), dpi=my_dpi)\n",
    "\n",
    "plt.xlabel('X')\n",
    "plt.ylabel('P')\n",
    "plt.title('Classification of Test Data\\n')\n",
    "\n",
    "plt.scatter(x_test, y_test, color=colors_predictions)\n",
    "plt.plot(sig_x, sig_y)\n",
    "plt.plot([decision_boundary_x, decision_boundary_x], [0, 1])\n",
    "plt.show()"
   ]
  }
 ],
 "metadata": {
  "kernelspec": {
   "display_name": "Python 3",
   "language": "python",
   "name": "python3"
  },
  "language_info": {
   "codemirror_mode": {
    "name": "ipython",
    "version": 3
   },
   "file_extension": ".py",
   "mimetype": "text/x-python",
   "name": "python",
   "nbconvert_exporter": "python",
   "pygments_lexer": "ipython3",
   "version": "3.6.1"
  }
 },
 "nbformat": 4,
 "nbformat_minor": 2
}
